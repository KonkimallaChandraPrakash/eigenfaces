{
 "cells": [
  {
   "cell_type": "markdown",
   "metadata": {},
   "source": [
    "\n",
    "# Faces recognition using LLE and SVMs\n",
    "\n",
    "\n",
    "The dataset used in this example is a preprocessed excerpt of the\n",
    "\"Labeled Faces in the Wild\", aka LFW_:\n",
    "\n",
    "  http://vis-www.cs.umass.edu/lfw/lfw-funneled.tgz (233MB)\n",
    "\n",
    "  LFW: http://vis-www.cs.umass.edu/lfw/\n"
   ]
  },
  {
   "cell_type": "code",
   "execution_count": 1,
   "metadata": {
    "collapsed": false
   },
   "outputs": [
    {
     "name": "stderr",
     "output_type": "stream",
     "text": [
      "2017-03-19 22:28:27,557 Loading LFW people faces from /home/chandu/scikit_learn_data/lfw_home\n"
     ]
    },
    {
     "name": "stdout",
     "output_type": "stream",
     "text": [
      "Automatically created module for IPython interactive environment\n",
      "Total dataset size:\n",
      "n_samples: 1288\n",
      "n_features: 1850\n",
      "n_classes: 7\n"
     ]
    }
   ],
   "source": [
    "%matplotlib inline\n",
    "from time import time\n",
    "import logging\n",
    "import matplotlib.pyplot as plt\n",
    "\n",
    "import numpy as np\n",
    "from sklearn.model_selection import train_test_split\n",
    "from sklearn.model_selection import GridSearchCV\n",
    "from sklearn.datasets import fetch_lfw_people\n",
    "from sklearn.metrics import classification_report\n",
    "from sklearn.metrics import confusion_matrix\n",
    "from sklearn.decomposition import PCA\n",
    "from sklearn.svm import SVC\n",
    "from sklearn import manifold\n",
    "\n",
    "print(__doc__)\n",
    "\n",
    "# Display progress logs on stdout\n",
    "logging.basicConfig(level=logging.INFO, format='%(asctime)s %(message)s')\n",
    "\n",
    "lfw_people = fetch_lfw_people(min_faces_per_person=70, resize=0.4)\n",
    "\n",
    "# introspect the images arrays to find the shapes (for plotting)\n",
    "n_samples, h, w = lfw_people.images.shape\n",
    "\n",
    "# for machine learning we use the 2 data directly (as relative pixel\n",
    "# positions info is ignored by this model)\n",
    "X = lfw_people.data\n",
    "n_features = X.shape[1]\n",
    "\n",
    "# the label to predict is the id of the person\n",
    "y = lfw_people.target\n",
    "target_names = lfw_people.target_names\n",
    "n_classes = target_names.shape[0]\n",
    "\n",
    "print(\"Total dataset size:\")\n",
    "print(\"n_samples: %d\" % n_samples)\n",
    "print(\"n_features: %d\" % n_features)\n",
    "print(\"n_classes: %d\" % n_classes)\n",
    "\n",
    "# split into a training and testing set\n",
    "X_train, X_test, y_train, y_test = train_test_split(\n",
    "    X, y, test_size=0.25, random_state=42)"
   ]
  },
  {
   "cell_type": "code",
   "execution_count": 2,
   "metadata": {
    "collapsed": false
   },
   "outputs": [
    {
     "name": "stdout",
     "output_type": "stream",
     "text": [
      "For 26 components 27 neighbors, accuracy is 0.33850931677 confusion matrix is: \n",
      "[[ 1  1  1  8  1  0  1]\n",
      " [ 2  8  3 39  5  1  2]\n",
      " [ 0  3  3 12  5  0  4]\n",
      " [ 4 14  1 91 27  3  6]\n",
      " [ 0  0  0 22  2  1  0]\n",
      " [ 0  1  0  8  5  1  0]\n",
      " [ 1  0  2 21  9  0  3]]\n",
      "                   precision    recall  f1-score   support\n",
      "\n",
      "     Ariel Sharon       0.12      0.08      0.10        13\n",
      "     Colin Powell       0.30      0.13      0.18        60\n",
      "  Donald Rumsfeld       0.30      0.11      0.16        27\n",
      "    George W Bush       0.45      0.62      0.52       146\n",
      "Gerhard Schroeder       0.04      0.08      0.05        25\n",
      "      Hugo Chavez       0.17      0.07      0.10        15\n",
      "       Tony Blair       0.19      0.08      0.12        36\n",
      "\n",
      "      avg / total       0.32      0.34      0.31       322\n",
      "\n"
     ]
    }
   ],
   "source": [
    "methods = ['standard', 'ltsa', 'hessian', 'modified']\n",
    "accuracies = []\n",
    "components = []\n",
    "neighbors = []\n",
    "n_components = 26\n",
    "n_neighbors = 27\n",
    "\n",
    "lle = manifold.LocallyLinearEmbedding(n_neighbors, n_components,eigen_solver='auto',method=methods[0])\n",
    "\n",
    "X_train_changed = lle.fit_transform(X_train)\n",
    "X_test_changed = lle.fit_transform(X_test)\n",
    "param_grid = {'C': [1,1e1,1e2,5e2,1e3, 5e3, 1e4, 5e4, 1e5],\n",
    "                              'gamma': [0.0001, 0.0005, 0.001, 0.005, 0.01, 0.1], }\n",
    "clf = GridSearchCV(SVC(kernel='rbf', class_weight='balanced'), param_grid)\n",
    "clf = clf.fit(X_train_changed, y_train)\n",
    "y_pred = clf.predict(X_test_changed)\n",
    "\n",
    "accuracies.append(float(np.sum(y_test==y_pred))/len(y_pred))\n",
    "components.append(n_components)\n",
    "neighbors.append(n_neighbors)\n",
    "\n",
    "print('For '+str(n_components)+' components '+str(n_neighbors)+' neighbors'+', accuracy is '+str(float(np.sum(y_test==y_pred))/len(y_pred))+' confusion matrix is: ')\n",
    "print(confusion_matrix(y_test, y_pred, labels=range(n_classes)))\n",
    "print(classification_report(y_test, y_pred, target_names=target_names))"
   ]
  },
  {
   "cell_type": "code",
   "execution_count": null,
   "metadata": {
    "collapsed": true
   },
   "outputs": [],
   "source": []
  }
 ],
 "metadata": {
  "anaconda-cloud": {},
  "kernelspec": {
   "display_name": "Python [conda root]",
   "language": "python",
   "name": "conda-root-py"
  },
  "language_info": {
   "codemirror_mode": {
    "name": "ipython",
    "version": 2
   },
   "file_extension": ".py",
   "mimetype": "text/x-python",
   "name": "python",
   "nbconvert_exporter": "python",
   "pygments_lexer": "ipython2",
   "version": "2.7.13"
  }
 },
 "nbformat": 4,
 "nbformat_minor": 2
}
